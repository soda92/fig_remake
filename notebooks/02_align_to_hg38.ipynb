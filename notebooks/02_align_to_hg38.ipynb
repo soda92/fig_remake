{
 "cells": [
  {
   "cell_type": "markdown",
   "id": "17f59827",
   "metadata": {},
   "source": [
    "https://crazyhottommy.github.io/reproduce_genomics_paper_figures/02_align_to_hg38.html"
   ]
  },
  {
   "cell_type": "markdown",
   "id": "eec04b27",
   "metadata": {},
   "source": [
    "## Align the fastq files"
   ]
  },
  {
   "cell_type": "code",
   "execution_count": 1,
   "id": "f2427fe2",
   "metadata": {},
   "outputs": [],
   "source": [
    "from fig_remake.data_path import DATA_DIR, DATA"
   ]
  },
  {
   "cell_type": "code",
   "execution_count": 2,
   "id": "ce68fb4c",
   "metadata": {},
   "outputs": [],
   "source": [
    "command_template = [\n",
    "    'bowtie2',\n",
    "    '-x',\n",
    "    'G:/My Drive/BioData/GRCh38_noalt_as/GRCh38_noalt_as',\n",
    "    '-U',\n",
    "    'fastq/YAP.fastq.gz',\n",
    "    '-S',\n",
    "    'fastq/YAP1.sam',\n",
    "    '--threads',\n",
    "    '8',\n",
    "    '--no-mixed',\n",
    "    '--no-discordant',\n",
    "    '-k',\n",
    "    '1',\n",
    "]"
   ]
  },
  {
   "cell_type": "code",
   "execution_count": 3,
   "id": "bde84bde",
   "metadata": {},
   "outputs": [],
   "source": [
    "data_labels = ['IgG', 'TAZ', 'TEAD4', 'YAP']"
   ]
  },
  {
   "cell_type": "code",
   "execution_count": 4,
   "id": "d5f8294b",
   "metadata": {},
   "outputs": [],
   "source": [
    "from copy import deepcopy"
   ]
  },
  {
   "cell_type": "code",
   "execution_count": 5,
   "id": "cd1f9b4c",
   "metadata": {},
   "outputs": [
    {
     "name": "stdout",
     "output_type": "stream",
     "text": [
      "['bowtie2', '-x', 'G:/My Drive/BioData/GRCh38_noalt_as/GRCh38_noalt_as', '-U', WindowsPath('D:/src/fig_remake/data/SRR1810912.fastq.gz'), '-S', WindowsPath('D:/src/fig_remake/data/IgG.sam'), '--threads', '8', '--no-mixed', '--no-discordant', '-k', '1']\n",
      "['bowtie2', '-x', 'G:/My Drive/BioData/GRCh38_noalt_as/GRCh38_noalt_as', '-U', WindowsPath('D:/src/fig_remake/data/SRR1810907.fastq.gz'), '-S', WindowsPath('D:/src/fig_remake/data/TAZ.sam'), '--threads', '8', '--no-mixed', '--no-discordant', '-k', '1']\n",
      "['bowtie2', '-x', 'G:/My Drive/BioData/GRCh38_noalt_as/GRCh38_noalt_as', '-U', WindowsPath('D:/src/fig_remake/data/SRR1810918.fastq.gz'), '-S', WindowsPath('D:/src/fig_remake/data/TEAD4.sam'), '--threads', '8', '--no-mixed', '--no-discordant', '-k', '1']\n",
      "['bowtie2', '-x', 'G:/My Drive/BioData/GRCh38_noalt_as/GRCh38_noalt_as', '-U', WindowsPath('D:/src/fig_remake/data/SRR1810900.fastq.gz'), '-S', WindowsPath('D:/src/fig_remake/data/YAP.sam'), '--threads', '8', '--no-mixed', '--no-discordant', '-k', '1']\n"
     ]
    }
   ],
   "source": [
    "for label in data_labels:\n",
    "    command = deepcopy(command_template)\n",
    "    data = DATA(label)\n",
    "    command[command.index('fastq/YAP.fastq.gz')] = data\n",
    "    command[command.index('fastq/YAP1.sam')] = DATA_DIR.joinpath(label + \".sam\")\n",
    "\n",
    "    print(command)"
   ]
  },
  {
   "cell_type": "code",
   "execution_count": 6,
   "id": "84d40a47",
   "metadata": {},
   "outputs": [
    {
     "name": "stdout",
     "output_type": "stream",
     "text": [
      "data already processed\n",
      "data already processed\n",
      "data already processed\n",
      "data already processed\n"
     ]
    },
    {
     "data": {
      "text/plain": [
       "'\\nSubprocess executed in 425.9841 seconds.\\n\\nSubprocess executed in 435.5488 seconds.\\n\\nSubprocess executed in 527.9717 seconds.\\n\\nSubprocess executed in 413.6645 seconds.\\n'"
      ]
     },
     "execution_count": 6,
     "metadata": {},
     "output_type": "execute_result"
    }
   ],
   "source": [
    "for label in data_labels:\n",
    "    command = deepcopy(command_template)\n",
    "    data = DATA(label)\n",
    "    command[command.index('fastq/YAP.fastq.gz')] = data\n",
    "    command[command.index('fastq/YAP1.sam')] = DATA_DIR.joinpath(label + \".sam\")\n",
    "\n",
    "    if DATA_DIR.joinpath(label + \".sam\").exists():\n",
    "        print(\"data already processed\")\n",
    "        continue\n",
    "\n",
    "    from fig_remake.timing import TimeSubprocess\n",
    "\n",
    "    with TimeSubprocess(command) as process:\n",
    "        print(process.stdout)\n",
    "\n",
    "\"\"\"\n",
    "Subprocess executed in 425.9841 seconds.\n",
    "\n",
    "Subprocess executed in 435.5488 seconds.\n",
    "\n",
    "Subprocess executed in 527.9717 seconds.\n",
    "\n",
    "Subprocess executed in 413.6645 seconds.\n",
    "\"\"\""
   ]
  },
  {
   "cell_type": "markdown",
   "id": "a3828d56",
   "metadata": {},
   "source": [
    "## Convert sam to bam"
   ]
  },
  {
   "cell_type": "code",
   "execution_count": 7,
   "id": "029e3251",
   "metadata": {},
   "outputs": [],
   "source": [
    "sam2bam_template = ['samtools', 'view', '--bam', '-S', 'samfile', '-o', 'bamfile']"
   ]
  },
  {
   "cell_type": "code",
   "execution_count": 8,
   "id": "0371c5e2",
   "metadata": {},
   "outputs": [
    {
     "name": "stdout",
     "output_type": "stream",
     "text": [
      "data already processed\n",
      "data already processed\n",
      "data already processed\n",
      "data already processed\n"
     ]
    },
    {
     "data": {
      "text/plain": [
       "'Subprocess executed in 169.4720 seconds.\\n\\nSubprocess executed in 145.6439 seconds.\\n\\nSubprocess executed in 167.3066 seconds.\\n\\nSubprocess executed in 117.7698 seconds.'"
      ]
     },
     "execution_count": 8,
     "metadata": {},
     "output_type": "execute_result"
    }
   ],
   "source": [
    "for label in data_labels:\n",
    "    command = deepcopy(sam2bam_template)\n",
    "    data = DATA_DIR.joinpath(label + \".sam\")\n",
    "    bam_data = DATA_DIR.joinpath(label + \".bam\")\n",
    "    command[command.index('samfile')] = data\n",
    "    command[command.index('bamfile')] = bam_data\n",
    "\n",
    "    if bam_data.exists():\n",
    "        print(\"data already processed\")\n",
    "        continue\n",
    "\n",
    "    from fig_remake.timing import TimeSubprocess\n",
    "\n",
    "    with TimeSubprocess(command) as process:\n",
    "        print(process.stdout)\n",
    "\n",
    "\"\"\"Subprocess executed in 169.4720 seconds.\n",
    "\n",
    "Subprocess executed in 145.6439 seconds.\n",
    "\n",
    "Subprocess executed in 167.3066 seconds.\n",
    "\n",
    "Subprocess executed in 117.7698 seconds.\"\"\""
   ]
  },
  {
   "cell_type": "markdown",
   "id": "676ccc54",
   "metadata": {},
   "source": [
    "## Sort the Bam"
   ]
  },
  {
   "cell_type": "code",
   "execution_count": 9,
   "id": "89e16959",
   "metadata": {},
   "outputs": [],
   "source": [
    "sort_command_template = ['samtools', 'sort', '-@', '4', 'bamfile', '-o', 'sortedfile']"
   ]
  },
  {
   "cell_type": "code",
   "execution_count": 17,
   "id": "4d87d7c8",
   "metadata": {},
   "outputs": [
    {
     "name": "stdout",
     "output_type": "stream",
     "text": [
      "\n",
      "Subprocess executed in 1 minutes and 26.3590 seconds.\n",
      "data already processed\n",
      "data already processed\n",
      "data already processed\n"
     ]
    }
   ],
   "source": [
    "for label in data_labels:\n",
    "    command = deepcopy(sort_command_template)\n",
    "    bam_data = DATA_DIR.joinpath(label + \".bam\")\n",
    "    sorted_bam_data = DATA_DIR.joinpath(label + \".sorted.bam\")\n",
    "    command[command.index('bamfile')] = bam_data\n",
    "    command[command.index('sortedfile')] = sorted_bam_data\n",
    "\n",
    "    if sorted_bam_data.exists():\n",
    "        print(\"data already processed\")\n",
    "        continue\n",
    "\n",
    "    from fig_remake.timing import TimeSubprocess\n",
    "\n",
    "    with TimeSubprocess(command) as process:\n",
    "        print(process.stdout)\n"
   ]
  },
  {
   "cell_type": "markdown",
   "id": "de0c48db",
   "metadata": {},
   "source": [
    "## Index the sorted bam"
   ]
  },
  {
   "cell_type": "code",
   "execution_count": 18,
   "id": "a7b0ddb1",
   "metadata": {},
   "outputs": [
    {
     "name": "stdout",
     "output_type": "stream",
     "text": [
      "\n",
      "Subprocess executed in 14.6908 seconds.\n",
      "data already processed\n",
      "data already processed\n",
      "data already processed\n"
     ]
    }
   ],
   "source": [
    "for label in data_labels:\n",
    "    sorted_bam_data = DATA_DIR.joinpath(label + '.sorted.bam')\n",
    "    index_data = DATA_DIR.joinpath(label + '.sorted.bam.bai')\n",
    "    command = ['samtools', 'index', sorted_bam_data]\n",
    "\n",
    "    if index_data.exists():\n",
    "        print('data already processed')\n",
    "        continue\n",
    "\n",
    "    from fig_remake.timing import TimeSubprocess\n",
    "\n",
    "    with TimeSubprocess(command) as process:\n",
    "        print(process.stdout)"
   ]
  },
  {
   "cell_type": "code",
   "execution_count": null,
   "id": "82524d71",
   "metadata": {},
   "outputs": [],
   "source": []
  }
 ],
 "metadata": {
  "kernelspec": {
   "display_name": ".venv",
   "language": "python",
   "name": "python3"
  },
  "language_info": {
   "codemirror_mode": {
    "name": "ipython",
    "version": 3
   },
   "file_extension": ".py",
   "mimetype": "text/x-python",
   "name": "python",
   "nbconvert_exporter": "python",
   "pygments_lexer": "ipython3",
   "version": "3.13.1"
  }
 },
 "nbformat": 4,
 "nbformat_minor": 5
}
