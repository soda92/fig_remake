{
 "cells": [
  {
   "cell_type": "markdown",
   "id": "903612f8",
   "metadata": {},
   "source": [
    "https://crazyhottommy.github.io/reproduce_genomics_paper_figures/01_download_fastq_from_GEO.html"
   ]
  },
  {
   "cell_type": "code",
   "execution_count": 2,
   "id": "ec65e976",
   "metadata": {},
   "outputs": [
    {
     "data": {
      "text/plain": [
       "'d:\\\\src\\\\fig_remake\\\\notebooks'"
      ]
     },
     "execution_count": 2,
     "metadata": {},
     "output_type": "execute_result"
    }
   ],
   "source": [
    "import os\n",
    "os.getcwd()"
   ]
  },
  {
   "cell_type": "code",
   "execution_count": 3,
   "id": "8f8e85bf",
   "metadata": {},
   "outputs": [
    {
     "data": {
      "text/plain": [
       "WindowsPath('d:/src/fig_remake/resources/ena-file-download-selected-files-20250421-0722.sh')"
      ]
     },
     "execution_count": 3,
     "metadata": {},
     "output_type": "execute_result"
    }
   ],
   "source": [
    "from pathlib import Path\n",
    "import os\n",
    "CR = Path(os.getcwd())\n",
    "proj_root = CR.parent\n",
    "sh_file: Path = list(proj_root.joinpath(\"resources\").glob(\"ena*.sh\"))[0]\n",
    "sh_file"
   ]
  },
  {
   "cell_type": "code",
   "execution_count": 6,
   "id": "398bda8b",
   "metadata": {},
   "outputs": [],
   "source": [
    "from fig_remake.parse_ids import parse_ids"
   ]
  },
  {
   "cell_type": "code",
   "execution_count": 7,
   "id": "62a7c8ff",
   "metadata": {},
   "outputs": [
    {
     "data": {
      "text/plain": [
       "[['007', 'SRR1810907'],\n",
       " ['008', 'SRR1810918'],\n",
       " ['002', 'SRR1810912'],\n",
       " ['000', 'SRR1810900']]"
      ]
     },
     "execution_count": 7,
     "metadata": {},
     "output_type": "execute_result"
    }
   ],
   "source": [
    "ids = parse_ids(sh_file)\n",
    "ids"
   ]
  },
  {
   "cell_type": "code",
   "execution_count": 9,
   "id": "cd1f8b4a",
   "metadata": {},
   "outputs": [
    {
     "name": "stdout",
     "output_type": "stream",
     "text": [
      "file already downloaded\n",
      "file already downloaded\n",
      "file already downloaded\n",
      "file already downloaded\n"
     ]
    }
   ],
   "source": [
    "from fig_remake.download_files import download_file\n",
    "for prefix, id in ids:\n",
    "    download_file(prefix, id)"
   ]
  },
  {
   "cell_type": "code",
   "execution_count": null,
   "id": "d3ca7b62",
   "metadata": {},
   "outputs": [],
   "source": []
  }
 ],
 "metadata": {
  "kernelspec": {
   "display_name": ".venv",
   "language": "python",
   "name": "python3"
  },
  "language_info": {
   "codemirror_mode": {
    "name": "ipython",
    "version": 3
   },
   "file_extension": ".py",
   "mimetype": "text/x-python",
   "name": "python",
   "nbconvert_exporter": "python",
   "pygments_lexer": "ipython3",
   "version": "3.13.1"
  }
 },
 "nbformat": 4,
 "nbformat_minor": 5
}
